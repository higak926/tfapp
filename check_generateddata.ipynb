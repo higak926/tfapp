{
 "cells": [
  {
   "cell_type": "code",
   "execution_count": 1,
   "id": "369771f1",
   "metadata": {},
   "outputs": [
    {
     "name": "stdout",
     "output_type": "stream",
     "text": [
      "0\n",
      "1\n",
      "2\n",
      "3\n",
      "4\n",
      "5\n",
      "6\n",
      "7\n",
      "8\n",
      "9\n",
      "0\n",
      "1\n",
      "2\n",
      "3\n",
      "4\n",
      "5\n",
      "6\n",
      "7\n",
      "8\n",
      "9\n",
      "0\n",
      "1\n",
      "2\n",
      "3\n",
      "4\n",
      "5\n",
      "6\n",
      "7\n",
      "8\n",
      "9\n",
      "0\n",
      "1\n",
      "2\n",
      "3\n",
      "4\n",
      "5\n",
      "6\n",
      "7\n",
      "8\n",
      "9\n",
      "0\n",
      "1\n",
      "2\n",
      "3\n",
      "4\n",
      "5\n",
      "6\n",
      "7\n",
      "8\n",
      "9\n",
      "0\n",
      "1\n",
      "2\n",
      "3\n",
      "4\n",
      "5\n",
      "6\n",
      "7\n",
      "8\n",
      "9\n",
      "0\n",
      "1\n",
      "2\n",
      "3\n",
      "4\n",
      "5\n",
      "6\n",
      "7\n",
      "8\n",
      "9\n",
      "0\n",
      "1\n",
      "2\n",
      "3\n",
      "4\n",
      "5\n",
      "6\n",
      "7\n",
      "8\n",
      "9\n",
      "0\n",
      "1\n",
      "2\n",
      "3\n",
      "4\n",
      "5\n",
      "6\n",
      "7\n",
      "8\n",
      "9\n",
      "0\n",
      "1\n",
      "2\n",
      "3\n",
      "4\n",
      "5\n",
      "6\n",
      "7\n",
      "8\n",
      "9\n",
      "0\n",
      "1\n",
      "2\n",
      "3\n",
      "4\n",
      "5\n",
      "6\n",
      "7\n",
      "8\n",
      "9\n",
      "0\n",
      "1\n",
      "2\n",
      "3\n",
      "4\n",
      "5\n",
      "6\n",
      "7\n",
      "8\n",
      "9\n"
     ]
    },
    {
     "name": "stderr",
     "output_type": "stream",
     "text": [
      "/Users/kazuakihiga/opt/anaconda3/envs/tf2021higa/lib/python3.8/site-packages/numpy/lib/npyio.py:528: VisibleDeprecationWarning: Creating an ndarray from ragged nested sequences (which is a list-or-tuple of lists-or-tuples-or ndarrays with different lengths or shapes) is deprecated. If you meant to do this, you must specify 'dtype=object' when creating the ndarray.\n",
      "  arr = np.asanyarray(arr)\n"
     ]
    }
   ],
   "source": [
    "from PIL import Image\n",
    "import os, glob\n",
    "import numpy as np\n",
    "from sklearn import model_selection\n",
    "\n",
    "flowers = [\n",
    "    \"1cymbidium\", \"2freesia\", \"3tulips\", \"4sakura\",\n",
    "    \"5valley\", \"6rose\", \"7lily\", \"8sunflower\", \"9dahlia\",\n",
    "    \"10gerbera\", \"11cyclamen\", \"12poinsettia\"\n",
    "]\n",
    "\n",
    "num_classes = len(flowers)\n",
    "image_size = 50\n",
    "\n",
    "# 画像の読み込み\n",
    "\n",
    "X = []\n",
    "Y = []\n",
    "for index, flower in enumerate(flowers):\n",
    "    photos_dir = \"./\" + flower\n",
    "    files = glob.glob(photos_dir + \"/*jpg\")\n",
    "    for i, file in enumerate(files):\n",
    "        print(i)\n",
    "        if i >= 10: break\n",
    "        image = Image.open(file)\n",
    "        image = image.convert(\"RGB\")\n",
    "        image = image.resize((image_size, image_size))\n",
    "        data = np.asarray(image)\n",
    "        X.append(data)\n",
    "        Y.append(index)\n",
    "\n",
    "X = np.array(X)\n",
    "Y = np.array(Y)\n",
    "\n",
    "X_train, X_test, y_train, y_test = model_selection.train_test_split(X, Y)\n",
    "xy = (X_train, X_test, y_train, y_test)\n",
    "np.save(\"./flower.npy\", xy)\n"
   ]
  },
  {
   "cell_type": "code",
   "execution_count": 3,
   "id": "828b9c05",
   "metadata": {},
   "outputs": [
    {
     "data": {
      "text/plain": [
       "90"
      ]
     },
     "execution_count": 3,
     "metadata": {},
     "output_type": "execute_result"
    }
   ],
   "source": [
    "len(X_train)"
   ]
  },
  {
   "cell_type": "code",
   "execution_count": 4,
   "id": "dd8f4564",
   "metadata": {},
   "outputs": [
    {
     "data": {
      "text/plain": [
       "30"
      ]
     },
     "execution_count": 4,
     "metadata": {},
     "output_type": "execute_result"
    }
   ],
   "source": [
    "len(X_test)"
   ]
  },
  {
   "cell_type": "code",
   "execution_count": 7,
   "id": "8f246a73",
   "metadata": {},
   "outputs": [
    {
     "data": {
      "text/plain": [
       "90"
      ]
     },
     "execution_count": 7,
     "metadata": {},
     "output_type": "execute_result"
    }
   ],
   "source": [
    "len(y_train)"
   ]
  },
  {
   "cell_type": "code",
   "execution_count": 8,
   "id": "bac9f0dd",
   "metadata": {},
   "outputs": [
    {
     "data": {
      "text/plain": [
       "30"
      ]
     },
     "execution_count": 8,
     "metadata": {},
     "output_type": "execute_result"
    }
   ],
   "source": [
    "len(y_test)"
   ]
  },
  {
   "cell_type": "code",
   "execution_count": 10,
   "id": "a65f20ef",
   "metadata": {},
   "outputs": [
    {
     "data": {
      "text/plain": [
       "array([[[139, 119,  37],\n",
       "        [138, 116,  39],\n",
       "        [138, 114,  40],\n",
       "        ...,\n",
       "        [109,  21,  13],\n",
       "        [104,  19,  13],\n",
       "        [101,  17,  12]],\n",
       "\n",
       "       [[142, 118,  36],\n",
       "        [141, 114,  37],\n",
       "        [142, 112,  40],\n",
       "        ...,\n",
       "        [106,  15,  12],\n",
       "        [102,   9,  15],\n",
       "        [103,  11,  14]],\n",
       "\n",
       "       [[145, 123,  38],\n",
       "        [143, 116,  39],\n",
       "        [136, 106,  36],\n",
       "        ...,\n",
       "        [104,  20,  12],\n",
       "        [104,  14,  11],\n",
       "        [ 99,   5,  13]],\n",
       "\n",
       "       ...,\n",
       "\n",
       "       [[143, 121,  42],\n",
       "        [147, 124,  40],\n",
       "        [153, 129,  42],\n",
       "        ...,\n",
       "        [103,  17,  11],\n",
       "        [ 98,   8,  13],\n",
       "        [ 97,   2,  12]],\n",
       "\n",
       "       [[143, 121,  41],\n",
       "        [148, 125,  40],\n",
       "        [153, 128,  41],\n",
       "        ...,\n",
       "        [103,   2,  13],\n",
       "        [104,  14,  21],\n",
       "        [112,  30,  23]],\n",
       "\n",
       "       [[143, 121,  39],\n",
       "        [148, 124,  39],\n",
       "        [152, 127,  40],\n",
       "        ...,\n",
       "        [109,   2,  14],\n",
       "        [112,  21,  25],\n",
       "        [110,  22,  25]]], dtype=uint8)"
      ]
     },
     "execution_count": 10,
     "metadata": {},
     "output_type": "execute_result"
    }
   ],
   "source": [
    "X_train[10]"
   ]
  },
  {
   "cell_type": "code",
   "execution_count": null,
   "id": "726d5c74",
   "metadata": {},
   "outputs": [],
   "source": []
  }
 ],
 "metadata": {
  "kernelspec": {
   "display_name": "Python 3 (ipykernel)",
   "language": "python",
   "name": "python3"
  },
  "language_info": {
   "codemirror_mode": {
    "name": "ipython",
    "version": 3
   },
   "file_extension": ".py",
   "mimetype": "text/x-python",
   "name": "python",
   "nbconvert_exporter": "python",
   "pygments_lexer": "ipython3",
   "version": "3.8.12"
  }
 },
 "nbformat": 4,
 "nbformat_minor": 5
}
